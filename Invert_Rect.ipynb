{
 "cells": [
  {
   "cell_type": "code",
   "execution_count": 1,
   "metadata": {},
   "outputs": [],
   "source": [
    "#IMPORT DAS BIBLIOTECAS NECESSÁRIAS\n",
    "import numpy as np #PARA DEFINIR OS PONTOS DE OBSERVAÇÕES \n",
    "from GeneticAlgorithm import GeneticAlgorithm #IMPORTAR A CLASSE ALGORITMO GENETICO\n",
    "import matplotlib.pyplot as plt #PARA VISUALIZAR O RESULTADO\n",
    "from Models import rect #IMPORTANDO O MODELO\n",
    "from Data.Functionals import phi #IMPORTANDO A FUNCAO DE AJUSTE\n",
    "from Data.Population import Fontes #PRA CRIAR A POPULACAO USANDO O MELHOR DEPOIS DO GENETICO"
   ]
  },
  {
   "cell_type": "code",
   "execution_count": 2,
   "metadata": {},
   "outputs": [],
   "source": [
    "#DEFINICAO DOS PARAMETROS PRO GENETICO\n",
    "xobs = np.linspace(-1000,1000,500) #SO PRA CALCULAR O GZ DO MELHOR INDIVIDUO DEPOIS DO GENETICO\n",
    "zobs = np.zeros( len( xobs ) ) #SO PRA CALCULAR O GZ DO MELHOR INDIVIDUO DEPOIS DO GENETICO\n",
    "model = rect( -100,100,300,900,2 ) #CRIANDO O MODELO\n",
    "model_gz = model.Gz( xobs, zobs ) #CALCULANDO O GZ DO MODELO\n",
    "model_gz_noised = model.addnoise( ) #CALCULANDO O GZ DO MODELO + GAUSSIAN NOISE\n",
    "min_bounds = [ -1000, 200, 1e5 ] #ONDE PROCURAR AS SOLUCOES\n",
    "max_bounds = [ 1000, 800, 1e10 ] #ONDE PROCURAR AS SOLUCOES\n",
    "nfontes = 20 #NUMERO DE BOLINHAS DE CADA INDIVIDUO\n",
    "nind = 5 #NUMERO DE INDIVIDUOS\n",
    "pmut = 0.1 #PROBABILIDADE DE CADA INDIVIDUO MUTAR\n",
    "mu = 0.4 #FATOR DE REGULARIZACAO"
   ]
  },
  {
   "cell_type": "code",
   "execution_count": null,
   "metadata": {},
   "outputs": [],
   "source": [
    "#ALGORITMO GENETICO\n",
    "ga = GeneticAlgorithm( phi, [ model_gz_noised, 'L2', mu ], min_bounds, max_bounds, pmut, nfontes, nind) #CRIANDO O AG USANDO OS PARAMETROS ESCOLHIDOS\n",
    "ga.start( 500 ) #COMECANDO AS ITERACOES (NESTE CASO, 500)\n",
    "\n",
    "pop = Fontes( ) #CRIANDO UMA NOVA POPULACAO PRA GUARDAR O MELHOR DO GENETICO\n",
    "best = pop.Gera_from_Existing( [ ga.winner ] ) #GUARDANDO O MELHOR DO GENETICO NESSA NOVA POPULACAO(QUE É UMA CLASSE) ( O MELHOR DO GENETICO TEM O NOME DE ga.winner)\n",
    "gz_best = 0 #INICIALIZANDO O GZ DO MELHOR\n",
    "for b in best: #O MELHOR É UM DICIONARIO, ONDE CADA CHAVE( OBJETO SPHERE ) GUARDA AS PROPIEDADES DESSA SPHERE( X, Y, M)\n",
    "    for i in b: #AQUI PEGAMOS APENAS AS CHAVES( SPHERES )\n",
    "        gz_best += i.Gz(xobs, zobs) #CALCULAMOS O GZ DE TODAS AS SPHERES"
   ]
  },
  {
   "cell_type": "code",
   "execution_count": null,
   "metadata": {},
   "outputs": [],
   "source": [
    "#PLOTANDO A FIGURA\n",
    "figure, (ax1, ax2) = plt.subplots(nrows=2, ncols=1, figsize=(17, 12), facecolor='w', sharex=True, squeeze=True)\n",
    "\n",
    "ax1.plot(xobs, model_gz_noised, 'r-', label='Gz Observado ')\n",
    "ax1.plot(xobs, gz_best, 'b-', label='Gz Predito ')\n",
    "ax1.legend()\n",
    "ax1.set_ylabel('Gz (mGal)', fontsize=15)\n",
    "ax1.set_xlim(-1000, 1000)\n",
    "ax1.grid()\n",
    "\n",
    "ax2.scatter(ga.winner[:, 0], ga.winner[:, 1], color='blue')\n",
    "ax2.plot([model.params[0], model.params[0], model.params[1], model.params[1], model.params[0]], \\\n",
    "        [model.params[2], model.params[3], model.params[3], model.params[2], model.params[2]], \".-r\")\n",
    "\n",
    "plt.fill_between([model.params[0], model.params[0], model.params[1], model.params[1], model.params[0]], \\\n",
    "                 [model.params[2], model.params[3], model.params[3], model.params[2], model.params[2]], facecolor='red', alpha=0.1)\n",
    "\n",
    "ax2.scatter(xobs[0:-1:5], zobs[0:-1:5] + 10, s=2)\n",
    "ax2.set_ylabel('Profundidade (m)', fontsize=15)\n",
    "ax2.set_ylim(0, 1000)\n",
    "ax2.set_xlabel('Cordenada x (m)', fontsize=15)\n",
    "ax2.invert_yaxis()\n",
    "plt.show( )"
   ]
  },
  {
   "cell_type": "code",
   "execution_count": null,
   "metadata": {},
   "outputs": [],
   "source": []
  }
 ],
 "metadata": {
  "kernelspec": {
   "display_name": "Python 3",
   "language": "python",
   "name": "python3"
  },
  "language_info": {
   "codemirror_mode": {
    "name": "ipython",
    "version": 3
   },
   "file_extension": ".py",
   "mimetype": "text/x-python",
   "name": "python",
   "nbconvert_exporter": "python",
   "pygments_lexer": "ipython3",
   "version": "3.7.3"
  }
 },
 "nbformat": 4,
 "nbformat_minor": 2
}
