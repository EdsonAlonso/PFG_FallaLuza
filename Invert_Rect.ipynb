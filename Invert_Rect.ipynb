{
 "cells": [
  {
   "cell_type": "code",
   "execution_count": 3,
   "metadata": {},
   "outputs": [],
   "source": [
    "#IMPORT DAS BIBLIOTECAS NECESSÁRIAS\n",
    "import numpy as np #PARA DEFINIR OS PONTOS DE OBSERVAÇÕES \n",
    "from GeneticAlgorithm import GeneticAlgorithm #IMPORTAR A CLASSE ALGORITMO GENETICO\n",
    "import matplotlib.pyplot as plt #PARA VISUALIZAR O RESULTADO\n",
    "from Models import rect #IMPORTANDO O MODELO\n",
    "from Data.Functionals import phi #IMPORTANDO A FUNCAO DE AJUSTE\n",
    "from Data.Population import Fontes #PRA CRIAR A POPULACAO USANDO O MELHOR DEPOIS DO GENETICO"
   ]
  },
  {
   "cell_type": "code",
   "execution_count": 4,
   "metadata": {},
   "outputs": [],
   "source": [
    "#DEFINICAO DOS PARAMETROS PRO GENETICO\n",
    "xobs = np.linspace(-1000,1000,500) #SO PRA CALCULAR O GZ DO MELHOR INDIVIDUO DEPOIS DO GENETICO\n",
    "zobs = np.zeros( len( xobs ) ) #SO PRA CALCULAR O GZ DO MELHOR INDIVIDUO DEPOIS DO GENETICO\n",
    "model = rect( -100,100,300,900,2 ) #CRIANDO O MODELO\n",
    "model_gz = model.Gz( xobs, zobs ) #CALCULANDO O GZ DO MODELO\n",
    "model_gz_noised = model.addnoise( ) #CALCULANDO O GZ DO MODELO + GAUSSIAN NOISE\n",
    "min_bounds = [ -1000, 200, 1e5 ] #ONDE PROCURAR AS SOLUCOES\n",
    "max_bounds = [ 1000, 800, 1e10 ] #ONDE PROCURAR AS SOLUCOES\n",
    "nfontes = 20 #NUMERO DE BOLINHAS DE CADA INDIVIDUO\n",
    "nind = 5 #NUMERO DE INDIVIDUOS\n",
    "pmut = 0.1 #PROBABILIDADE DE CADA INDIVIDUO MUTAR\n",
    "mu = 0.4 #FATOR DE REGULARIZACAO"
   ]
  },
  {
   "cell_type": "code",
   "execution_count": 5,
   "metadata": {},
   "outputs": [
    {
     "name": "stdout",
     "output_type": "stream",
     "text": [
      "Geração 0\n"
     ]
    },
    {
     "name": "stderr",
     "output_type": "stream",
     "text": [
      "C:\\Users\\Guest1\\Anaconda3\\lib\\site-packages\\scipy\\spatial\\distance.py:1066: RuntimeWarning: invalid value encountered in sqrt\n",
      "  return np.sqrt(m)\n"
     ]
    },
    {
     "ename": "IndexError",
     "evalue": "index 370 is out of bounds for axis 0 with size 5",
     "output_type": "error",
     "traceback": [
      "\u001b[1;31m---------------------------------------------------------------------------\u001b[0m",
      "\u001b[1;31mIndexError\u001b[0m                                Traceback (most recent call last)",
      "\u001b[1;32m<ipython-input-5-a8ff46dc532f>\u001b[0m in \u001b[0;36m<module>\u001b[1;34m\u001b[0m\n\u001b[0;32m      1\u001b[0m \u001b[1;31m#ALGORITMO GENETICO\u001b[0m\u001b[1;33m\u001b[0m\u001b[1;33m\u001b[0m\u001b[1;33m\u001b[0m\u001b[0m\n\u001b[0;32m      2\u001b[0m \u001b[0mga\u001b[0m \u001b[1;33m=\u001b[0m \u001b[0mGeneticAlgorithm\u001b[0m\u001b[1;33m(\u001b[0m \u001b[0mphi\u001b[0m\u001b[1;33m,\u001b[0m \u001b[1;33m[\u001b[0m \u001b[0mmodel_gz_noised\u001b[0m\u001b[1;33m,\u001b[0m \u001b[1;34m'Maha'\u001b[0m\u001b[1;33m,\u001b[0m \u001b[0mmu\u001b[0m \u001b[1;33m]\u001b[0m\u001b[1;33m,\u001b[0m \u001b[0mmin_bounds\u001b[0m\u001b[1;33m,\u001b[0m \u001b[0mmax_bounds\u001b[0m\u001b[1;33m,\u001b[0m \u001b[0mpmut\u001b[0m\u001b[1;33m,\u001b[0m \u001b[0mnfontes\u001b[0m\u001b[1;33m,\u001b[0m \u001b[0mnind\u001b[0m\u001b[1;33m)\u001b[0m \u001b[1;31m#CRIANDO O AG USANDO OS PARAMETROS ESCOLHIDOS\u001b[0m\u001b[1;33m\u001b[0m\u001b[1;33m\u001b[0m\u001b[0m\n\u001b[1;32m----> 3\u001b[1;33m \u001b[0mga\u001b[0m\u001b[1;33m.\u001b[0m\u001b[0mstart\u001b[0m\u001b[1;33m(\u001b[0m \u001b[1;36m500\u001b[0m \u001b[1;33m)\u001b[0m \u001b[1;31m#COMECANDO AS ITERACOES (NESTE CASO, 500)\u001b[0m\u001b[1;33m\u001b[0m\u001b[1;33m\u001b[0m\u001b[0m\n\u001b[0m\u001b[0;32m      4\u001b[0m \u001b[1;33m\u001b[0m\u001b[0m\n\u001b[0;32m      5\u001b[0m \u001b[0mpop\u001b[0m \u001b[1;33m=\u001b[0m \u001b[0mFontes\u001b[0m\u001b[1;33m(\u001b[0m \u001b[1;33m)\u001b[0m \u001b[1;31m#CRIANDO UMA NOVA POPULACAO PRA GUARDAR O MELHOR DO GENETICO\u001b[0m\u001b[1;33m\u001b[0m\u001b[1;33m\u001b[0m\u001b[0m\n",
      "\u001b[1;32m~\\Documents\\PFG_FallaLuza\\GeneticAlgorithm.py\u001b[0m in \u001b[0;36mstart\u001b[1;34m(self, ngera)\u001b[0m\n\u001b[0;32m     50\u001b[0m \u001b[1;33m\u001b[0m\u001b[0m\n\u001b[0;32m     51\u001b[0m             \u001b[1;32mfor\u001b[0m \u001b[0mpai\u001b[0m \u001b[1;32min\u001b[0m \u001b[0mpais\u001b[0m\u001b[1;33m:\u001b[0m\u001b[1;33m\u001b[0m\u001b[1;33m\u001b[0m\u001b[0m\n\u001b[1;32m---> 52\u001b[1;33m                 \u001b[0mpopcruz\u001b[0m\u001b[1;33m.\u001b[0m\u001b[0mappend\u001b[0m\u001b[1;33m(\u001b[0m \u001b[0mself\u001b[0m\u001b[1;33m.\u001b[0m\u001b[0mfontes\u001b[0m\u001b[1;33m[\u001b[0m \u001b[0mpai\u001b[0m \u001b[1;33m]\u001b[0m \u001b[1;33m)\u001b[0m\u001b[1;33m\u001b[0m\u001b[1;33m\u001b[0m\u001b[0m\n\u001b[0m\u001b[0;32m     53\u001b[0m \u001b[1;33m\u001b[0m\u001b[0m\n\u001b[0;32m     54\u001b[0m             \u001b[1;31m# Etapa 05: Cruzamento para criacao dos filhos:\u001b[0m\u001b[1;33m\u001b[0m\u001b[1;33m\u001b[0m\u001b[1;33m\u001b[0m\u001b[0m\n",
      "\u001b[1;31mIndexError\u001b[0m: index 370 is out of bounds for axis 0 with size 5"
     ]
    }
   ],
   "source": [
    "#ALGORITMO GENETICO\n",
    "ga = GeneticAlgorithm( phi, [ model_gz_noised, 'Maha', mu ], min_bounds, max_bounds, pmut, nfontes, nind) #CRIANDO O AG USANDO OS PARAMETROS ESCOLHIDOS\n",
    "ga.start( 500 ) #COMECANDO AS ITERACOES (NESTE CASO, 500)\n",
    "\n",
    "pop = Fontes( ) #CRIANDO UMA NOVA POPULACAO PRA GUARDAR O MELHOR DO GENETICO\n",
    "best = pop.Gera_from_Existing( [ ga.winner ] ) #GUARDANDO O MELHOR DO GENETICO NESSA NOVA POPULACAO(QUE É UMA CLASSE) ( O MELHOR DO GENETICO TEM O NOME DE ga.winner)\n",
    "gz_best = 0 #INICIALIZANDO O GZ DO MELHOR\n",
    "for b in best: #O MELHOR É UM DICIONARIO, ONDE CADA CHAVE( OBJETO SPHERE ) GUARDA AS PROPIEDADES DESSA SPHERE( X, Y, M)\n",
    "    for i in b: #AQUI PEGAMOS APENAS AS CHAVES( SPHERES )\n",
    "        gz_best += i.Gz(xobs, zobs) #CALCULAMOS O GZ DE TODAS AS SPHERES"
   ]
  },
  {
   "cell_type": "code",
   "execution_count": null,
   "metadata": {},
   "outputs": [],
   "source": [
    "#PLOTANDO A FIGURA\n",
    "figure, (ax1, ax2) = plt.subplots(nrows=2, ncols=1, figsize=(17, 12), facecolor='w', sharex=True, squeeze=True)\n",
    "\n",
    "ax1.plot(xobs, model_gz_noised, 'r-', label='Gz Observado ')\n",
    "ax1.plot(xobs, gz_best, 'b-', label='Gz Predito ')\n",
    "ax1.legend()\n",
    "ax1.set_ylabel('Gz (mGal)', fontsize=15)\n",
    "ax1.set_xlim(-1000, 1000)\n",
    "ax1.grid()\n",
    "\n",
    "ax2.scatter(ga.winner[:, 0], ga.winner[:, 1], color='blue')\n",
    "ax2.plot([model.params[0], model.params[0], model.params[1], model.params[1], model.params[0]], \\\n",
    "        [model.params[2], model.params[3], model.params[3], model.params[2], model.params[2]], \".-r\")\n",
    "\n",
    "plt.fill_between([model.params[0], model.params[0], model.params[1], model.params[1], model.params[0]], \\\n",
    "                 [model.params[2], model.params[3], model.params[3], model.params[2], model.params[2]], facecolor='red', alpha=0.1)\n",
    "\n",
    "ax2.scatter(xobs[0:-1:5], zobs[0:-1:5] + 10, s=2)\n",
    "ax2.set_ylabel('Profundidade (m)', fontsize=15)\n",
    "ax2.set_ylim(0, 1000)\n",
    "ax2.set_xlabel('Cordenada x (m)', fontsize=15)\n",
    "ax2.invert_yaxis()\n",
    "plt.show( )"
   ]
  },
  {
   "cell_type": "code",
   "execution_count": null,
   "metadata": {},
   "outputs": [],
   "source": []
  }
 ],
 "metadata": {
  "kernelspec": {
   "display_name": "Python 3",
   "language": "python",
   "name": "python3"
  },
  "language_info": {
   "codemirror_mode": {
    "name": "ipython",
    "version": 3
   },
   "file_extension": ".py",
   "mimetype": "text/x-python",
   "name": "python",
   "nbconvert_exporter": "python",
   "pygments_lexer": "ipython3",
   "version": "3.7.3"
  }
 },
 "nbformat": 4,
 "nbformat_minor": 2
}
