{
 "cells": [
  {
   "cell_type": "code",
   "execution_count": 1,
   "metadata": {},
   "outputs": [],
   "source": [
    "#IMPORT DAS BIBLIOTECAS NECESSÁRIAS\n",
    "import numpy as np #PARA DEFINIR OS PONTOS DE OBSERVAÇÕES \n",
    "from GeneticAlgorithm import GeneticAlgorithm #IMPORTAR A CLASSE ALGORITMO GENETICO\n",
    "import matplotlib.pyplot as plt #PARA VISUALIZAR O RESULTADO\n",
    "from Models import rect #IMPORTANDO O MODELO\n",
    "from Data.Functionals import phi #IMPORTANDO A FUNCAO DE AJUSTE\n",
    "from Data.Population import Fontes #PRA CRIAR A POPULACAO USANDO O MELHOR DEPOIS DO GENETICO"
   ]
  },
  {
   "cell_type": "code",
   "execution_count": 2,
   "metadata": {},
   "outputs": [],
   "source": [
    "#DEFINICAO DOS PARAMETROS PRO GENETICO\n",
    "xobs = np.linspace(-1000,1000,500) #SO PRA CALCULAR O GZ DO MELHOR INDIVIDUO DEPOIS DO GENETICO\n",
    "zobs = np.zeros( len( xobs ) ) #SO PRA CALCULAR O GZ DO MELHOR INDIVIDUO DEPOIS DO GENETICO\n",
    "model = rect( -100,100,300,900,2 ) #CRIANDO O MODELO\n",
    "model_gz = model.Gz( xobs, zobs ) #CALCULANDO O GZ DO MODELO\n",
    "model_gz_noised = model.addnoise( ) #CALCULANDO O GZ DO MODELO + GAUSSIAN NOISE\n",
    "min_bounds = [ -1000, 200, 1e5 ] #ONDE PROCURAR AS SOLUCOES\n",
    "max_bounds = [ 1000, 800, 1e10 ] #ONDE PROCURAR AS SOLUCOES\n",
    "nfontes = 20 #NUMERO DE BOLINHAS DE CADA INDIVIDUO\n",
    "nind = 5 #NUMERO DE INDIVIDUOS\n",
    "pmut = 0.1 #PROBABILIDADE DE CADA INDIVIDUO MUTAR\n",
    "mu = 0.4 #FATOR DE REGULARIZACAO\n",
    "ngera = 500 #NUMERO DE GERACOES"
   ]
  },
  {
   "cell_type": "code",
   "execution_count": 3,
   "metadata": {},
   "outputs": [
    {
     "name": "stdout",
     "output_type": "stream",
     "text": [
      "Geração 0\n",
      "Geração 1\n",
      "Geração 2\n",
      "Geração 3\n",
      "Geração 4\n",
      "69.87683918172627\n",
      "Geração 5\n",
      "Geração 6\n",
      "Geração 7\n",
      "42.90945950995027\n",
      "Geração 8\n",
      "Geração 9\n",
      "Geração 10\n"
     ]
    },
    {
     "ename": "KeyboardInterrupt",
     "evalue": "",
     "output_type": "error",
     "traceback": [
      "\u001b[1;31m---------------------------------------------------------------------------\u001b[0m",
      "\u001b[1;31mKeyboardInterrupt\u001b[0m                         Traceback (most recent call last)",
      "\u001b[1;32m<ipython-input-3-a8ff46dc532f>\u001b[0m in \u001b[0;36m<module>\u001b[1;34m\u001b[0m\n\u001b[0;32m      1\u001b[0m \u001b[1;31m#ALGORITMO GENETICO\u001b[0m\u001b[1;33m\u001b[0m\u001b[1;33m\u001b[0m\u001b[1;33m\u001b[0m\u001b[0m\n\u001b[0;32m      2\u001b[0m \u001b[0mga\u001b[0m \u001b[1;33m=\u001b[0m \u001b[0mGeneticAlgorithm\u001b[0m\u001b[1;33m(\u001b[0m \u001b[0mphi\u001b[0m\u001b[1;33m,\u001b[0m \u001b[1;33m[\u001b[0m \u001b[0mmodel_gz_noised\u001b[0m\u001b[1;33m,\u001b[0m \u001b[1;34m'Maha'\u001b[0m\u001b[1;33m,\u001b[0m \u001b[0mmu\u001b[0m \u001b[1;33m]\u001b[0m\u001b[1;33m,\u001b[0m \u001b[0mmin_bounds\u001b[0m\u001b[1;33m,\u001b[0m \u001b[0mmax_bounds\u001b[0m\u001b[1;33m,\u001b[0m \u001b[0mpmut\u001b[0m\u001b[1;33m,\u001b[0m \u001b[0mnfontes\u001b[0m\u001b[1;33m,\u001b[0m \u001b[0mnind\u001b[0m\u001b[1;33m)\u001b[0m \u001b[1;31m#CRIANDO O AG USANDO OS PARAMETROS ESCOLHIDOS\u001b[0m\u001b[1;33m\u001b[0m\u001b[1;33m\u001b[0m\u001b[0m\n\u001b[1;32m----> 3\u001b[1;33m \u001b[0mga\u001b[0m\u001b[1;33m.\u001b[0m\u001b[0mstart\u001b[0m\u001b[1;33m(\u001b[0m \u001b[1;36m500\u001b[0m \u001b[1;33m)\u001b[0m \u001b[1;31m#COMECANDO AS ITERACOES (NESTE CASO, 500)\u001b[0m\u001b[1;33m\u001b[0m\u001b[1;33m\u001b[0m\u001b[0m\n\u001b[0m\u001b[0;32m      4\u001b[0m \u001b[1;33m\u001b[0m\u001b[0m\n\u001b[0;32m      5\u001b[0m \u001b[0mpop\u001b[0m \u001b[1;33m=\u001b[0m \u001b[0mFontes\u001b[0m\u001b[1;33m(\u001b[0m \u001b[1;33m)\u001b[0m \u001b[1;31m#CRIANDO UMA NOVA POPULACAO PRA GUARDAR O MELHOR DO GENETICO\u001b[0m\u001b[1;33m\u001b[0m\u001b[1;33m\u001b[0m\u001b[0m\n",
      "\u001b[1;32m~\\Documents\\PFG_FallaLuza\\GeneticAlgorithm.py\u001b[0m in \u001b[0;36mstart\u001b[1;34m(self, ngera)\u001b[0m\n\u001b[0;32m     63\u001b[0m \u001b[1;33m\u001b[0m\u001b[0m\n\u001b[0;32m     64\u001b[0m             fit_filhos = self.fit_function(self.fit_params[ 0 ], self.fontes_gz, self.fit_params[ 1 ], \\\n\u001b[1;32m---> 65\u001b[1;33m                                      filhos, self.fit_params[ 2 ])\n\u001b[0m\u001b[0;32m     66\u001b[0m \u001b[1;33m\u001b[0m\u001b[0m\n\u001b[0;32m     67\u001b[0m             \u001b[1;31m# Etapa 08: Elitismo para colocar os filhos na populacao original:\u001b[0m\u001b[1;33m\u001b[0m\u001b[1;33m\u001b[0m\u001b[1;33m\u001b[0m\u001b[0m\n",
      "\u001b[1;32m~\\Documents\\PFG_FallaLuza\\Data\\Functionals.py\u001b[0m in \u001b[0;36mphi\u001b[1;34m(gzmodel, gzcalc, chamada, M, mu)\u001b[0m\n\u001b[0;32m     22\u001b[0m \u001b[1;32mdef\u001b[0m \u001b[0mphi\u001b[0m\u001b[1;33m(\u001b[0m \u001b[0mgzmodel\u001b[0m\u001b[1;33m,\u001b[0m \u001b[0mgzcalc\u001b[0m \u001b[1;33m,\u001b[0m \u001b[0mchamada\u001b[0m\u001b[1;33m,\u001b[0m \u001b[0mM\u001b[0m \u001b[1;33m,\u001b[0m \u001b[0mmu\u001b[0m\u001b[1;33m)\u001b[0m\u001b[1;33m:\u001b[0m\u001b[1;33m\u001b[0m\u001b[1;33m\u001b[0m\u001b[0m\n\u001b[0;32m     23\u001b[0m \u001b[1;33m\u001b[0m\u001b[0m\n\u001b[1;32m---> 24\u001b[1;33m     \u001b[1;32mreturn\u001b[0m \u001b[0mphi1\u001b[0m\u001b[1;33m(\u001b[0m \u001b[0mgzmodel\u001b[0m\u001b[1;33m,\u001b[0m \u001b[0mgzcalc\u001b[0m\u001b[1;33m)\u001b[0m \u001b[1;33m+\u001b[0m \u001b[0mmu\u001b[0m\u001b[1;33m*\u001b[0m\u001b[0mtheta\u001b[0m\u001b[1;33m(\u001b[0m \u001b[0mchamada\u001b[0m\u001b[1;33m,\u001b[0m \u001b[0mM\u001b[0m \u001b[1;33m)\u001b[0m\u001b[1;33m\u001b[0m\u001b[1;33m\u001b[0m\u001b[0m\n\u001b[0m\u001b[0;32m     25\u001b[0m \u001b[1;33m\u001b[0m\u001b[0m\n\u001b[0;32m     26\u001b[0m \u001b[1;32mdef\u001b[0m \u001b[0msomadict\u001b[0m\u001b[1;33m(\u001b[0m \u001b[0mdict1\u001b[0m\u001b[1;33m,\u001b[0m \u001b[0mdict2\u001b[0m \u001b[1;33m)\u001b[0m\u001b[1;33m:\u001b[0m\u001b[1;33m\u001b[0m\u001b[1;33m\u001b[0m\u001b[0m\n",
      "\u001b[1;32m~\\Documents\\PFG_FallaLuza\\Data\\Functionals.py\u001b[0m in \u001b[0;36mtheta\u001b[1;34m(chamada, M)\u001b[0m\n\u001b[0;32m     15\u001b[0m     \u001b[0mres2\u001b[0m \u001b[1;33m=\u001b[0m \u001b[1;33m[\u001b[0m \u001b[1;33m]\u001b[0m\u001b[1;33m\u001b[0m\u001b[1;33m\u001b[0m\u001b[0m\n\u001b[0;32m     16\u001b[0m     \u001b[1;32mfor\u001b[0m \u001b[0mm\u001b[0m \u001b[1;32min\u001b[0m \u001b[0mM\u001b[0m\u001b[1;33m:\u001b[0m\u001b[1;33m\u001b[0m\u001b[1;33m\u001b[0m\u001b[0m\n\u001b[1;32m---> 17\u001b[1;33m         \u001b[0mres2\u001b[0m\u001b[1;33m.\u001b[0m\u001b[0mappend\u001b[0m\u001b[1;33m(\u001b[0m \u001b[0mgetDistance\u001b[0m\u001b[1;33m(\u001b[0m \u001b[0mchamada\u001b[0m\u001b[1;33m,\u001b[0m  \u001b[0mm\u001b[0m \u001b[1;33m)\u001b[0m \u001b[1;33m)\u001b[0m\u001b[1;33m\u001b[0m\u001b[1;33m\u001b[0m\u001b[0m\n\u001b[0m\u001b[0;32m     18\u001b[0m \u001b[1;33m\u001b[0m\u001b[0m\n\u001b[0;32m     19\u001b[0m     \u001b[1;32mreturn\u001b[0m \u001b[0mnp\u001b[0m\u001b[1;33m.\u001b[0m\u001b[0marray\u001b[0m\u001b[1;33m(\u001b[0m \u001b[0mres2\u001b[0m \u001b[1;33m)\u001b[0m\u001b[1;33m\u001b[0m\u001b[1;33m\u001b[0m\u001b[0m\n",
      "\u001b[1;32m~\\Documents\\PFG_FallaLuza\\Graph\\graphs_distances.py\u001b[0m in \u001b[0;36mgetDistance\u001b[1;34m(chamada, M)\u001b[0m\n\u001b[0;32m    210\u001b[0m \u001b[1;33m\u001b[0m\u001b[0m\n\u001b[0;32m    211\u001b[0m \u001b[1;32mdef\u001b[0m \u001b[0mgetDistance\u001b[0m\u001b[1;33m(\u001b[0m \u001b[0mchamada\u001b[0m\u001b[1;33m,\u001b[0m \u001b[0mM\u001b[0m \u001b[1;33m)\u001b[0m\u001b[1;33m:\u001b[0m\u001b[1;33m\u001b[0m\u001b[1;33m\u001b[0m\u001b[0m\n\u001b[1;32m--> 212\u001b[1;33m     \u001b[1;32mreturn\u001b[0m \u001b[0mDistFactory\u001b[0m\u001b[1;33m(\u001b[0m \u001b[1;33m)\u001b[0m\u001b[1;33m.\u001b[0m\u001b[0mgetdist\u001b[0m\u001b[1;33m(\u001b[0m \u001b[0mchamada\u001b[0m \u001b[1;33m)\u001b[0m\u001b[1;33m.\u001b[0m\u001b[0mcalculate\u001b[0m\u001b[1;33m(\u001b[0m \u001b[0mM\u001b[0m \u001b[1;33m)\u001b[0m\u001b[1;33m\u001b[0m\u001b[1;33m\u001b[0m\u001b[0m\n\u001b[0m",
      "\u001b[1;32m~\\Documents\\PFG_FallaLuza\\Graph\\graphs_distances.py\u001b[0m in \u001b[0;36mcalculate\u001b[1;34m(self, M)\u001b[0m\n\u001b[0;32m    186\u001b[0m \u001b[1;33m\u001b[0m\u001b[0m\n\u001b[0;32m    187\u001b[0m         \u001b[0mN\u001b[0m \u001b[1;33m=\u001b[0m \u001b[0mnp\u001b[0m\u001b[1;33m.\u001b[0m\u001b[0mc_\u001b[0m\u001b[1;33m[\u001b[0m\u001b[0mu\u001b[0m\u001b[1;33m,\u001b[0m \u001b[0mv\u001b[0m\u001b[1;33m]\u001b[0m\u001b[1;33m\u001b[0m\u001b[1;33m\u001b[0m\u001b[0m\n\u001b[1;32m--> 188\u001b[1;33m         \u001b[0mC\u001b[0m \u001b[1;33m=\u001b[0m \u001b[0mnp\u001b[0m\u001b[1;33m.\u001b[0m\u001b[0mcov\u001b[0m\u001b[1;33m(\u001b[0m\u001b[0mN\u001b[0m\u001b[1;33m)\u001b[0m\u001b[1;33m\u001b[0m\u001b[1;33m\u001b[0m\u001b[0m\n\u001b[0m\u001b[0;32m    189\u001b[0m \u001b[1;33m\u001b[0m\u001b[0m\n\u001b[0;32m    190\u001b[0m         \u001b[1;32mif\u001b[0m \u001b[0mnp\u001b[0m\u001b[1;33m.\u001b[0m\u001b[0mlinalg\u001b[0m\u001b[1;33m.\u001b[0m\u001b[0mdet\u001b[0m\u001b[1;33m(\u001b[0m\u001b[0mC\u001b[0m\u001b[1;33m)\u001b[0m \u001b[1;33m<\u001b[0m \u001b[1;36m1e-100\u001b[0m\u001b[1;33m:\u001b[0m\u001b[1;33m\u001b[0m\u001b[1;33m\u001b[0m\u001b[0m\n",
      "\u001b[1;32m~\\Anaconda3\\lib\\site-packages\\numpy\\lib\\function_base.py\u001b[0m in \u001b[0;36mcov\u001b[1;34m(m, y, rowvar, bias, ddof, fweights, aweights)\u001b[0m\n\u001b[0;32m   2448\u001b[0m     \u001b[1;32melse\u001b[0m\u001b[1;33m:\u001b[0m\u001b[1;33m\u001b[0m\u001b[1;33m\u001b[0m\u001b[0m\n\u001b[0;32m   2449\u001b[0m         \u001b[0mX_T\u001b[0m \u001b[1;33m=\u001b[0m \u001b[1;33m(\u001b[0m\u001b[0mX\u001b[0m\u001b[1;33m*\u001b[0m\u001b[0mw\u001b[0m\u001b[1;33m)\u001b[0m\u001b[1;33m.\u001b[0m\u001b[0mT\u001b[0m\u001b[1;33m\u001b[0m\u001b[1;33m\u001b[0m\u001b[0m\n\u001b[1;32m-> 2450\u001b[1;33m     \u001b[0mc\u001b[0m \u001b[1;33m=\u001b[0m \u001b[0mdot\u001b[0m\u001b[1;33m(\u001b[0m\u001b[0mX\u001b[0m\u001b[1;33m,\u001b[0m \u001b[0mX_T\u001b[0m\u001b[1;33m.\u001b[0m\u001b[0mconj\u001b[0m\u001b[1;33m(\u001b[0m\u001b[1;33m)\u001b[0m\u001b[1;33m)\u001b[0m\u001b[1;33m\u001b[0m\u001b[1;33m\u001b[0m\u001b[0m\n\u001b[0m\u001b[0;32m   2451\u001b[0m     \u001b[0mc\u001b[0m \u001b[1;33m*=\u001b[0m \u001b[0mnp\u001b[0m\u001b[1;33m.\u001b[0m\u001b[0mtrue_divide\u001b[0m\u001b[1;33m(\u001b[0m\u001b[1;36m1\u001b[0m\u001b[1;33m,\u001b[0m \u001b[0mfact\u001b[0m\u001b[1;33m)\u001b[0m\u001b[1;33m\u001b[0m\u001b[1;33m\u001b[0m\u001b[0m\n\u001b[0;32m   2452\u001b[0m     \u001b[1;32mreturn\u001b[0m \u001b[0mc\u001b[0m\u001b[1;33m.\u001b[0m\u001b[0msqueeze\u001b[0m\u001b[1;33m(\u001b[0m\u001b[1;33m)\u001b[0m\u001b[1;33m\u001b[0m\u001b[1;33m\u001b[0m\u001b[0m\n",
      "\u001b[1;31mKeyboardInterrupt\u001b[0m: "
     ]
    }
   ],
   "source": [
    "#ALGORITMO GENETICO\n",
    "ga = GeneticAlgorithm( phi, [ model_gz_noised, 'L2', mu ], min_bounds, max_bounds, pmut, nfontes, nind) #CRIANDO O AG USANDO OS PARAMETROS ESCOLHIDOS\n",
    "ga.start( ngera ) #COMECANDO AS ITERACOES (NESTE CASO, 500)\n",
    "\n",
    "pop = Fontes( ) #CRIANDO UMA NOVA POPULACAO PRA GUARDAR O MELHOR DO GENETICO\n",
    "best = pop.Gera_from_Existing( [ ga.winner ] ) #GUARDANDO O MELHOR DO GENETICO NESSA NOVA POPULACAO(QUE É UMA CLASSE) ( O MELHOR DO GENETICO TEM O NOME DE ga.winner)\n",
    "gz_best = 0 #INICIALIZANDO O GZ DO MELHOR\n",
    "for b in best: #O MELHOR É UM DICIONARIO, ONDE CADA CHAVE( OBJETO SPHERE ) GUARDA AS PROPIEDADES DESSA SPHERE( X, Y, M)\n",
    "    for i in b: #AQUI PEGAMOS APENAS AS CHAVES( SPHERES )\n",
    "        gz_best += i.Gz(xobs, zobs) #CALCULAMOS O GZ DE TODAS AS SPHERES\n",
    "\n",
    "thetas = ga.bests_theta #GUARDANDO A LISTA DOS THETAS"
   ]
  },
  {
   "cell_type": "code",
   "execution_count": null,
   "metadata": {},
   "outputs": [],
   "source": [
    "#PLOTANDO A O MODELO, AS BOLINHAS E AS CURVAS\n",
    "figure, (ax1, ax2) = plt.subplots(nrows=2, ncols=1, figsize=(17, 12), facecolor='w', sharex=True, squeeze=True)\n",
    "\n",
    "ax1.plot(xobs, model_gz_noised, 'r-', label='Gz Observado ')\n",
    "ax1.plot(xobs, gz_best, 'b-', label='Gz Predito ')\n",
    "ax1.legend()\n",
    "ax1.set_ylabel('Gz (mGal)', fontsize=15)\n",
    "ax1.set_xlim(-1000, 1000)\n",
    "ax1.grid()\n",
    "\n",
    "ax2.scatter(ga.winner[:, 0], ga.winner[:, 1], color='blue')\n",
    "ax2.plot([model.params[0], model.params[0], model.params[1], model.params[1], model.params[0]], \\\n",
    "        [model.params[2], model.params[3], model.params[3], model.params[2], model.params[2]], \".-r\")\n",
    "\n",
    "plt.fill_between([model.params[0], model.params[0], model.params[1], model.params[1], model.params[0]], \\\n",
    "                 [model.params[2], model.params[3], model.params[3], model.params[2], model.params[2]], facecolor='red', alpha=0.1)\n",
    "\n",
    "ax2.scatter(xobs[0:-1:5], zobs[0:-1:5] + 10, s=2)\n",
    "ax2.set_ylabel('Profundidade (m)', fontsize=15)\n",
    "ax2.set_ylim(0, 1000)\n",
    "ax2.set_xlabel('Cordenada x (m)', fontsize=15)\n",
    "ax2.invert_yaxis()\n",
    "plt.show( )"
   ]
  },
  {
   "cell_type": "code",
   "execution_count": null,
   "metadata": {},
   "outputs": [],
   "source": [
    "#PLOTANDO A FUNCAO THETA\n",
    "plt.figure( fisize = ( 10,10 ) )\n",
    "plt.plot( range( ngera ), )"
   ]
  }
 ],
 "metadata": {
  "kernelspec": {
   "display_name": "Python 3",
   "language": "python",
   "name": "python3"
  },
  "language_info": {
   "codemirror_mode": {
    "name": "ipython",
    "version": 3
   },
   "file_extension": ".py",
   "mimetype": "text/x-python",
   "name": "python",
   "nbconvert_exporter": "python",
   "pygments_lexer": "ipython3",
   "version": "3.7.3"
  }
 },
 "nbformat": 4,
 "nbformat_minor": 2
}
